{
 "cells": [
  {
   "cell_type": "markdown",
   "id": "c4b0d8b5-a571-4e71-8caf-439c5e55a4f5",
   "metadata": {
    "tags": []
   },
   "source": [
    "# Introduction"
   ]
  },
  {
   "cell_type": "markdown",
   "id": "98b88d86-1643-4246-af41-d179f44ea0ad",
   "metadata": {},
   "source": [
    "### Who am I?\n",
    "Hello 👋! \n",
    "\n",
    "My name is Mark Andal, and I am a 4th year computer engineering student at UCLA. 👨‍🔬🔧🔌💻\n",
    "\n",
    "One of my interests is music 🎶🎵🎼, and so I thought it would be cool to explore it by asking:\n",
    "\n",
    "### What Makes a Song Popular? 🔥\n",
    "In this project, I hope to be doing analysis on what makes a hit song. Are there shared similarities based on a song's metadata (i.e. bpm, variability, etc)? What motivates people to listen to these types of songs? Are there specific target values for these songs that songwriters and producers aim for? \n",
    "\n",
    "As someone who considers music to be an important part of their life and someone who is interested in music production (though I have not dabbled in it yet), learning and analyzing trends related to music sounds like a very fun project. Researching this type of information could also help others to understand certain statistics and why they hear and potentially enjoy very similar trending and top songs. There is definitely no equation for creating a top song, but knowing the data and contextualizing it could influence the music industry.\n",
    "\n",
    "### Data Sources 📊\n",
    "I will be utilizing data from Spotify, scraped and collected from users. For example:\n",
    "[Top Spotify Songs from 2010-2019 Dataset from Kaggle](https://www.kaggle.com/leonardopena/top-spotify-songs-from-20102019-by-year)\n",
    "includes a list of the songs as well as metadata provided by Spotify, like the bpm, duration, etc. \n",
    "\n",
    "Additionally, I may consider using the Spotify API to collect more data on each song if necessary.\n",
    "\n",
    "### Scope & Visualizations 🔍\n",
    "I hope to find general summary statistics for all the songs (mean, median, mode, max, etc) for the metadata categories. I would like to do comparisons by year for them and try to find trends or correleations with the metadata. This will probably include a lot of line/bar/scatter plots and histograms. \n",
    "\n",
    "\n",
    "### Predictions and Insight 💡\n",
    "Analyzing this data as well as other potential areas of interest (such as how this differs globally) would provide insights and trends for popular songs. Breaking down the relationships and correlations would, for example, demonstrate that people prefer songs that have a good 'danceability' rating and a high bpm. There are lots of good insights when looking at the different information regarding these popular songs. Music is a science and an art. Understanding this can help intepret the scientific approach to this art, but it also will help to gain a deeper appreciation to music making."
   ]
  },
  {
   "cell_type": "markdown",
   "id": "63f0fae5-2410-4d16-9ca2-3660688a2ad1",
   "metadata": {},
   "source": [
    "# Data Exploration\n",
    "To be completed"
   ]
  },
  {
   "cell_type": "markdown",
   "id": "74b15024-1e16-466c-88bd-fa2d00343ced",
   "metadata": {},
   "source": [
    "# Data Analysis\n",
    "To be completed"
   ]
  }
 ],
 "metadata": {
  "kernelspec": {
   "display_name": "Python 3 (ipykernel)",
   "language": "python",
   "name": "python3"
  },
  "language_info": {
   "codemirror_mode": {
    "name": "ipython",
    "version": 3
   },
   "file_extension": ".py",
   "mimetype": "text/x-python",
   "name": "python",
   "nbconvert_exporter": "python",
   "pygments_lexer": "ipython3",
   "version": "3.9.6"
  }
 },
 "nbformat": 4,
 "nbformat_minor": 5
}
