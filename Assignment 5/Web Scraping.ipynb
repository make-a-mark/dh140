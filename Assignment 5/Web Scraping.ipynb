{
 "cells": [
  {
   "cell_type": "markdown",
   "id": "bfd1b3d3-7f58-468a-a5e0-c04abd9a6c51",
   "metadata": {
    "tags": []
   },
   "source": [
    "### Imports"
   ]
  },
  {
   "cell_type": "code",
   "execution_count": 2,
   "id": "9b06bd5b-f1df-4716-a796-5864a4076e76",
   "metadata": {},
   "outputs": [],
   "source": [
    "from bs4 import BeautifulSoup\n",
    "import requests\n",
    "import pandas as pd"
   ]
  },
  {
   "cell_type": "markdown",
   "id": "43f3adbc-c2ed-42ca-91aa-90cfd702ad8c",
   "metadata": {},
   "source": [
    "### Step 2: Use requests and BeautifulSoup to make a list of all the CORGIS datasets."
   ]
  },
  {
   "cell_type": "code",
   "execution_count": 3,
   "id": "a367d418-49c6-4512-99c5-d7f1d00235f6",
   "metadata": {},
   "outputs": [
    {
     "data": {
      "text/plain": [
       "<Response [200]>"
      ]
     },
     "execution_count": 3,
     "metadata": {},
     "output_type": "execute_result"
    }
   ],
   "source": [
    "response = requests.get('https://corgis-edu.github.io/corgis/csv/')\n",
    "response"
   ]
  },
  {
   "cell_type": "markdown",
   "id": "55385679-c77a-4db9-a343-ee0599fdd49d",
   "metadata": {},
   "source": [
    "The relevant HTML tag to search for is \"h3\""
   ]
  },
  {
   "cell_type": "code",
   "execution_count": 4,
   "id": "39ba8b99-df9b-4b23-8d80-54c75e3e8a03",
   "metadata": {
    "tags": []
   },
   "outputs": [],
   "source": [
    "# Save all the html in a string variable\n",
    "html_string = response.text\n",
    "\n",
    "# Use BeautifulSoup to create a new object that will allow you to search for HTML tags\n",
    "document = BeautifulSoup(html_string, \"html.parser\")\n",
    "\n",
    "# This \"document\" variable is an object that has a \"find\" method\n",
    "all_datasets = document.findAll('h3')"
   ]
  },
  {
   "cell_type": "markdown",
   "id": "417ba225-5d31-4a12-bbcd-7fd4303abd8f",
   "metadata": {},
   "source": [
    "### Step 3: Write a function that takes an element from the list of CORGIS datasets, searches the respective CORGIS page for the CSV download link, and returns a Pandas dataframe."
   ]
  },
  {
   "cell_type": "code",
   "execution_count": 5,
   "id": "008cc916-3079-4c07-9840-10cf73a14646",
   "metadata": {},
   "outputs": [
    {
     "name": "stdout",
     "output_type": "stream",
     "text": [
      "https://corgis-edu.github.io/corgis/datasets/csv/airlines/airlines.csv/../../datasets/csv/airlines/airlines.csv\n"
     ]
    },
    {
     "data": {
      "text/html": [
       "<div>\n",
       "<style scoped>\n",
       "    .dataframe tbody tr th:only-of-type {\n",
       "        vertical-align: middle;\n",
       "    }\n",
       "\n",
       "    .dataframe tbody tr th {\n",
       "        vertical-align: top;\n",
       "    }\n",
       "\n",
       "    .dataframe thead th {\n",
       "        text-align: right;\n",
       "    }\n",
       "</style>\n",
       "<table border=\"1\" class=\"dataframe\">\n",
       "  <thead>\n",
       "    <tr style=\"text-align: right;\">\n",
       "      <th></th>\n",
       "      <th>Airport.Code</th>\n",
       "      <th>Airport.Name</th>\n",
       "      <th>Time.Label</th>\n",
       "      <th>Time.Month</th>\n",
       "      <th>Time.Month Name</th>\n",
       "      <th>Time.Year</th>\n",
       "      <th>Statistics.# of Delays.Carrier</th>\n",
       "      <th>Statistics.# of Delays.Late Aircraft</th>\n",
       "      <th>Statistics.# of Delays.National Aviation System</th>\n",
       "      <th>Statistics.# of Delays.Security</th>\n",
       "      <th>...</th>\n",
       "      <th>Statistics.Flights.Delayed</th>\n",
       "      <th>Statistics.Flights.Diverted</th>\n",
       "      <th>Statistics.Flights.On Time</th>\n",
       "      <th>Statistics.Flights.Total</th>\n",
       "      <th>Statistics.Minutes Delayed.Carrier</th>\n",
       "      <th>Statistics.Minutes Delayed.Late Aircraft</th>\n",
       "      <th>Statistics.Minutes Delayed.National Aviation System</th>\n",
       "      <th>Statistics.Minutes Delayed.Security</th>\n",
       "      <th>Statistics.Minutes Delayed.Total</th>\n",
       "      <th>Statistics.Minutes Delayed.Weather</th>\n",
       "    </tr>\n",
       "  </thead>\n",
       "  <tbody>\n",
       "    <tr>\n",
       "      <th>0</th>\n",
       "      <td>ATL</td>\n",
       "      <td>Atlanta, GA: Hartsfield-Jackson Atlanta Intern...</td>\n",
       "      <td>2003/06</td>\n",
       "      <td>6</td>\n",
       "      <td>June</td>\n",
       "      <td>2003</td>\n",
       "      <td>1009</td>\n",
       "      <td>1275</td>\n",
       "      <td>3217</td>\n",
       "      <td>17</td>\n",
       "      <td>...</td>\n",
       "      <td>5843</td>\n",
       "      <td>27</td>\n",
       "      <td>23974</td>\n",
       "      <td>30060</td>\n",
       "      <td>61606</td>\n",
       "      <td>68335</td>\n",
       "      <td>118831</td>\n",
       "      <td>518</td>\n",
       "      <td>268764</td>\n",
       "      <td>19474</td>\n",
       "    </tr>\n",
       "    <tr>\n",
       "      <th>1</th>\n",
       "      <td>BOS</td>\n",
       "      <td>Boston, MA: Logan International</td>\n",
       "      <td>2003/06</td>\n",
       "      <td>6</td>\n",
       "      <td>June</td>\n",
       "      <td>2003</td>\n",
       "      <td>374</td>\n",
       "      <td>495</td>\n",
       "      <td>685</td>\n",
       "      <td>3</td>\n",
       "      <td>...</td>\n",
       "      <td>1623</td>\n",
       "      <td>3</td>\n",
       "      <td>7875</td>\n",
       "      <td>9639</td>\n",
       "      <td>20319</td>\n",
       "      <td>28189</td>\n",
       "      <td>24400</td>\n",
       "      <td>99</td>\n",
       "      <td>77167</td>\n",
       "      <td>4160</td>\n",
       "    </tr>\n",
       "    <tr>\n",
       "      <th>2</th>\n",
       "      <td>BWI</td>\n",
       "      <td>Baltimore, MD: Baltimore/Washington Internatio...</td>\n",
       "      <td>2003/06</td>\n",
       "      <td>6</td>\n",
       "      <td>June</td>\n",
       "      <td>2003</td>\n",
       "      <td>296</td>\n",
       "      <td>477</td>\n",
       "      <td>389</td>\n",
       "      <td>8</td>\n",
       "      <td>...</td>\n",
       "      <td>1245</td>\n",
       "      <td>15</td>\n",
       "      <td>6998</td>\n",
       "      <td>8287</td>\n",
       "      <td>13635</td>\n",
       "      <td>26810</td>\n",
       "      <td>17556</td>\n",
       "      <td>278</td>\n",
       "      <td>64480</td>\n",
       "      <td>6201</td>\n",
       "    </tr>\n",
       "    <tr>\n",
       "      <th>3</th>\n",
       "      <td>CLT</td>\n",
       "      <td>Charlotte, NC: Charlotte Douglas International</td>\n",
       "      <td>2003/06</td>\n",
       "      <td>6</td>\n",
       "      <td>June</td>\n",
       "      <td>2003</td>\n",
       "      <td>300</td>\n",
       "      <td>472</td>\n",
       "      <td>735</td>\n",
       "      <td>2</td>\n",
       "      <td>...</td>\n",
       "      <td>1562</td>\n",
       "      <td>14</td>\n",
       "      <td>7021</td>\n",
       "      <td>8670</td>\n",
       "      <td>14763</td>\n",
       "      <td>23379</td>\n",
       "      <td>23804</td>\n",
       "      <td>127</td>\n",
       "      <td>65865</td>\n",
       "      <td>3792</td>\n",
       "    </tr>\n",
       "    <tr>\n",
       "      <th>4</th>\n",
       "      <td>DCA</td>\n",
       "      <td>Washington, DC: Ronald Reagan Washington National</td>\n",
       "      <td>2003/06</td>\n",
       "      <td>6</td>\n",
       "      <td>June</td>\n",
       "      <td>2003</td>\n",
       "      <td>283</td>\n",
       "      <td>268</td>\n",
       "      <td>487</td>\n",
       "      <td>4</td>\n",
       "      <td>...</td>\n",
       "      <td>1100</td>\n",
       "      <td>18</td>\n",
       "      <td>5321</td>\n",
       "      <td>6513</td>\n",
       "      <td>13775</td>\n",
       "      <td>13712</td>\n",
       "      <td>20999</td>\n",
       "      <td>120</td>\n",
       "      <td>52747</td>\n",
       "      <td>4141</td>\n",
       "    </tr>\n",
       "    <tr>\n",
       "      <th>...</th>\n",
       "      <td>...</td>\n",
       "      <td>...</td>\n",
       "      <td>...</td>\n",
       "      <td>...</td>\n",
       "      <td>...</td>\n",
       "      <td>...</td>\n",
       "      <td>...</td>\n",
       "      <td>...</td>\n",
       "      <td>...</td>\n",
       "      <td>...</td>\n",
       "      <td>...</td>\n",
       "      <td>...</td>\n",
       "      <td>...</td>\n",
       "      <td>...</td>\n",
       "      <td>...</td>\n",
       "      <td>...</td>\n",
       "      <td>...</td>\n",
       "      <td>...</td>\n",
       "      <td>...</td>\n",
       "      <td>...</td>\n",
       "      <td>...</td>\n",
       "    </tr>\n",
       "    <tr>\n",
       "      <th>4403</th>\n",
       "      <td>SAN</td>\n",
       "      <td>San Diego, CA: San Diego International</td>\n",
       "      <td>2016/01</td>\n",
       "      <td>1</td>\n",
       "      <td>January</td>\n",
       "      <td>2016</td>\n",
       "      <td>280</td>\n",
       "      <td>397</td>\n",
       "      <td>171</td>\n",
       "      <td>2</td>\n",
       "      <td>...</td>\n",
       "      <td>871</td>\n",
       "      <td>18</td>\n",
       "      <td>5030</td>\n",
       "      <td>6016</td>\n",
       "      <td>15482</td>\n",
       "      <td>23023</td>\n",
       "      <td>6021</td>\n",
       "      <td>79</td>\n",
       "      <td>46206</td>\n",
       "      <td>1601</td>\n",
       "    </tr>\n",
       "    <tr>\n",
       "      <th>4404</th>\n",
       "      <td>SEA</td>\n",
       "      <td>Seattle, WA: Seattle/Tacoma International</td>\n",
       "      <td>2016/01</td>\n",
       "      <td>1</td>\n",
       "      <td>January</td>\n",
       "      <td>2016</td>\n",
       "      <td>357</td>\n",
       "      <td>513</td>\n",
       "      <td>351</td>\n",
       "      <td>2</td>\n",
       "      <td>...</td>\n",
       "      <td>1274</td>\n",
       "      <td>31</td>\n",
       "      <td>8330</td>\n",
       "      <td>9739</td>\n",
       "      <td>25461</td>\n",
       "      <td>32693</td>\n",
       "      <td>11466</td>\n",
       "      <td>73</td>\n",
       "      <td>74017</td>\n",
       "      <td>4324</td>\n",
       "    </tr>\n",
       "    <tr>\n",
       "      <th>4405</th>\n",
       "      <td>SFO</td>\n",
       "      <td>San Francisco, CA: San Francisco International</td>\n",
       "      <td>2016/01</td>\n",
       "      <td>1</td>\n",
       "      <td>January</td>\n",
       "      <td>2016</td>\n",
       "      <td>560</td>\n",
       "      <td>947</td>\n",
       "      <td>2194</td>\n",
       "      <td>2</td>\n",
       "      <td>...</td>\n",
       "      <td>3825</td>\n",
       "      <td>20</td>\n",
       "      <td>8912</td>\n",
       "      <td>13206</td>\n",
       "      <td>43641</td>\n",
       "      <td>72557</td>\n",
       "      <td>153416</td>\n",
       "      <td>66</td>\n",
       "      <td>278610</td>\n",
       "      <td>8930</td>\n",
       "    </tr>\n",
       "    <tr>\n",
       "      <th>4406</th>\n",
       "      <td>SLC</td>\n",
       "      <td>Salt Lake City, UT: Salt Lake City International</td>\n",
       "      <td>2016/01</td>\n",
       "      <td>1</td>\n",
       "      <td>January</td>\n",
       "      <td>2016</td>\n",
       "      <td>338</td>\n",
       "      <td>540</td>\n",
       "      <td>253</td>\n",
       "      <td>3</td>\n",
       "      <td>...</td>\n",
       "      <td>1175</td>\n",
       "      <td>14</td>\n",
       "      <td>7426</td>\n",
       "      <td>8699</td>\n",
       "      <td>32066</td>\n",
       "      <td>33682</td>\n",
       "      <td>8057</td>\n",
       "      <td>57</td>\n",
       "      <td>76978</td>\n",
       "      <td>3116</td>\n",
       "    </tr>\n",
       "    <tr>\n",
       "      <th>4407</th>\n",
       "      <td>TPA</td>\n",
       "      <td>Tampa, FL: Tampa International</td>\n",
       "      <td>2016/01</td>\n",
       "      <td>1</td>\n",
       "      <td>January</td>\n",
       "      <td>2016</td>\n",
       "      <td>410</td>\n",
       "      <td>342</td>\n",
       "      <td>312</td>\n",
       "      <td>2</td>\n",
       "      <td>...</td>\n",
       "      <td>1095</td>\n",
       "      <td>7</td>\n",
       "      <td>4748</td>\n",
       "      <td>5996</td>\n",
       "      <td>22557</td>\n",
       "      <td>21164</td>\n",
       "      <td>11423</td>\n",
       "      <td>37</td>\n",
       "      <td>57774</td>\n",
       "      <td>2593</td>\n",
       "    </tr>\n",
       "  </tbody>\n",
       "</table>\n",
       "<p>4408 rows × 24 columns</p>\n",
       "</div>"
      ],
      "text/plain": [
       "     Airport.Code                                       Airport.Name  \\\n",
       "0             ATL  Atlanta, GA: Hartsfield-Jackson Atlanta Intern...   \n",
       "1             BOS                    Boston, MA: Logan International   \n",
       "2             BWI  Baltimore, MD: Baltimore/Washington Internatio...   \n",
       "3             CLT     Charlotte, NC: Charlotte Douglas International   \n",
       "4             DCA  Washington, DC: Ronald Reagan Washington National   \n",
       "...           ...                                                ...   \n",
       "4403          SAN             San Diego, CA: San Diego International   \n",
       "4404          SEA          Seattle, WA: Seattle/Tacoma International   \n",
       "4405          SFO     San Francisco, CA: San Francisco International   \n",
       "4406          SLC   Salt Lake City, UT: Salt Lake City International   \n",
       "4407          TPA                     Tampa, FL: Tampa International   \n",
       "\n",
       "     Time.Label  Time.Month Time.Month Name  Time.Year  \\\n",
       "0       2003/06           6            June       2003   \n",
       "1       2003/06           6            June       2003   \n",
       "2       2003/06           6            June       2003   \n",
       "3       2003/06           6            June       2003   \n",
       "4       2003/06           6            June       2003   \n",
       "...         ...         ...             ...        ...   \n",
       "4403    2016/01           1         January       2016   \n",
       "4404    2016/01           1         January       2016   \n",
       "4405    2016/01           1         January       2016   \n",
       "4406    2016/01           1         January       2016   \n",
       "4407    2016/01           1         January       2016   \n",
       "\n",
       "      Statistics.# of Delays.Carrier  Statistics.# of Delays.Late Aircraft  \\\n",
       "0                               1009                                  1275   \n",
       "1                                374                                   495   \n",
       "2                                296                                   477   \n",
       "3                                300                                   472   \n",
       "4                                283                                   268   \n",
       "...                              ...                                   ...   \n",
       "4403                             280                                   397   \n",
       "4404                             357                                   513   \n",
       "4405                             560                                   947   \n",
       "4406                             338                                   540   \n",
       "4407                             410                                   342   \n",
       "\n",
       "      Statistics.# of Delays.National Aviation System  \\\n",
       "0                                                3217   \n",
       "1                                                 685   \n",
       "2                                                 389   \n",
       "3                                                 735   \n",
       "4                                                 487   \n",
       "...                                               ...   \n",
       "4403                                              171   \n",
       "4404                                              351   \n",
       "4405                                             2194   \n",
       "4406                                              253   \n",
       "4407                                              312   \n",
       "\n",
       "      Statistics.# of Delays.Security  ...  Statistics.Flights.Delayed  \\\n",
       "0                                  17  ...                        5843   \n",
       "1                                   3  ...                        1623   \n",
       "2                                   8  ...                        1245   \n",
       "3                                   2  ...                        1562   \n",
       "4                                   4  ...                        1100   \n",
       "...                               ...  ...                         ...   \n",
       "4403                                2  ...                         871   \n",
       "4404                                2  ...                        1274   \n",
       "4405                                2  ...                        3825   \n",
       "4406                                3  ...                        1175   \n",
       "4407                                2  ...                        1095   \n",
       "\n",
       "     Statistics.Flights.Diverted  Statistics.Flights.On Time  \\\n",
       "0                             27                       23974   \n",
       "1                              3                        7875   \n",
       "2                             15                        6998   \n",
       "3                             14                        7021   \n",
       "4                             18                        5321   \n",
       "...                          ...                         ...   \n",
       "4403                          18                        5030   \n",
       "4404                          31                        8330   \n",
       "4405                          20                        8912   \n",
       "4406                          14                        7426   \n",
       "4407                           7                        4748   \n",
       "\n",
       "      Statistics.Flights.Total  Statistics.Minutes Delayed.Carrier  \\\n",
       "0                        30060                               61606   \n",
       "1                         9639                               20319   \n",
       "2                         8287                               13635   \n",
       "3                         8670                               14763   \n",
       "4                         6513                               13775   \n",
       "...                        ...                                 ...   \n",
       "4403                      6016                               15482   \n",
       "4404                      9739                               25461   \n",
       "4405                     13206                               43641   \n",
       "4406                      8699                               32066   \n",
       "4407                      5996                               22557   \n",
       "\n",
       "      Statistics.Minutes Delayed.Late Aircraft  \\\n",
       "0                                        68335   \n",
       "1                                        28189   \n",
       "2                                        26810   \n",
       "3                                        23379   \n",
       "4                                        13712   \n",
       "...                                        ...   \n",
       "4403                                     23023   \n",
       "4404                                     32693   \n",
       "4405                                     72557   \n",
       "4406                                     33682   \n",
       "4407                                     21164   \n",
       "\n",
       "      Statistics.Minutes Delayed.National Aviation System  \\\n",
       "0                                                118831     \n",
       "1                                                 24400     \n",
       "2                                                 17556     \n",
       "3                                                 23804     \n",
       "4                                                 20999     \n",
       "...                                                 ...     \n",
       "4403                                               6021     \n",
       "4404                                              11466     \n",
       "4405                                             153416     \n",
       "4406                                               8057     \n",
       "4407                                              11423     \n",
       "\n",
       "      Statistics.Minutes Delayed.Security  Statistics.Minutes Delayed.Total  \\\n",
       "0                                     518                            268764   \n",
       "1                                      99                             77167   \n",
       "2                                     278                             64480   \n",
       "3                                     127                             65865   \n",
       "4                                     120                             52747   \n",
       "...                                   ...                               ...   \n",
       "4403                                   79                             46206   \n",
       "4404                                   73                             74017   \n",
       "4405                                   66                            278610   \n",
       "4406                                   57                             76978   \n",
       "4407                                   37                             57774   \n",
       "\n",
       "      Statistics.Minutes Delayed.Weather  \n",
       "0                                  19474  \n",
       "1                                   4160  \n",
       "2                                   6201  \n",
       "3                                   3792  \n",
       "4                                   4141  \n",
       "...                                  ...  \n",
       "4403                                1601  \n",
       "4404                                4324  \n",
       "4405                                8930  \n",
       "4406                                3116  \n",
       "4407                                2593  \n",
       "\n",
       "[4408 rows x 24 columns]"
      ]
     },
     "execution_count": 5,
     "metadata": {},
     "output_type": "execute_result"
    }
   ],
   "source": [
    "# print(all_datasets)\n",
    "\n",
    "def dataset_to_df(dataset):\n",
    "    website = \"https://corgis-edu.github.io/corgis/datasets/csv/\" + dataset.lower() + \"/\" + dataset.lower() + \".csv\"\n",
    "#     print(website)\n",
    "    df = pd.read_csv(website)\n",
    "    \n",
    "    html_link = \"https://corgis-edu.github.io/corgis/csv/\" + dataset.lower() + \"/\"\n",
    "    response = requests.get(html_link)\n",
    "    html_string = response.text\n",
    "    document = BeautifulSoup(html_string, \"html.parser\")\n",
    "#     print(document)\n",
    "    all_links = document.findAll('a')\n",
    "#     test = all_links[20]\n",
    "#     print(type(test))\n",
    "#     print(test.attrs)\n",
    "#     print(all_links)\n",
    "    for link in all_links:\n",
    "        if link.has_attr('download'):\n",
    "            download_link = website + \"/\" + link['href']\n",
    "            print(download_link)\n",
    "    return df\n",
    "    \n",
    "dataset_to_df(all_datasets[1].get_text())\n"
   ]
  },
  {
   "cell_type": "markdown",
   "id": "32a42599-3765-4334-b966-d35582dccba6",
   "metadata": {},
   "source": [
    "### Step 4: Using dataframes returned by your new function, make a line plot, a bar plot, and a histogram plot"
   ]
  },
  {
   "cell_type": "markdown",
   "id": "d269ce35-2fd5-44c0-b663-70a02e241bcd",
   "metadata": {},
   "source": [
    "Histogram plot"
   ]
  },
  {
   "cell_type": "code",
   "execution_count": 50,
   "id": "6a825824-8df7-4124-abc9-f3b3a081a4a2",
   "metadata": {},
   "outputs": [
    {
     "name": "stdout",
     "output_type": "stream",
     "text": [
      "https://corgis-edu.github.io/corgis/datasets/csv/music/music.csv/../../datasets/csv/music/music.csv\n"
     ]
    },
    {
     "data": {
      "text/plain": [
       "array([[<AxesSubplot:title={'center':'artist.hotttnesss'}>]], dtype=object)"
      ]
     },
     "execution_count": 50,
     "metadata": {},
     "output_type": "execute_result"
    },
    {
     "data": {
      "image/png": "[encoded data removed]",
      "text/plain": [
       "<Figure size 432x288 with 1 Axes>"
      ]
     },
     "metadata": {
      "needs_background": "light"
     },
     "output_type": "display_data"
    }
   ],
   "source": [
    "music_df = dataset_to_df(all_datasets[30].get_text())\n",
    "music_df.head()\n",
    "\n",
    "name_hotness = music_df[[\"artist.name\", \"artist.hotttnesss\"]]\n",
    "name_hotness.hist()"
   ]
  },
  {
   "cell_type": "markdown",
   "id": "b2b79b24-6c92-463c-a516-c2b29643ae2b",
   "metadata": {},
   "source": [
    "Bar Plot"
   ]
  },
  {
   "cell_type": "code",
   "execution_count": 67,
   "id": "ba11e150-89fd-4ea9-ba65-941d7120b29a",
   "metadata": {},
   "outputs": [
    {
     "name": "stdout",
     "output_type": "stream",
     "text": [
      "https://corgis-edu.github.io/corgis/datasets/csv/ingredients/ingredients.csv/../../datasets/csv/ingredients/ingredients.csv\n"
     ]
    },
    {
     "data": {
      "text/plain": [
       "<AxesSubplot:xlabel='Category'>"
      ]
     },
     "execution_count": 67,
     "metadata": {},
     "output_type": "execute_result"
    },
    {
     "data": {
      "image/png": "[encoded data removed]",
      "text/plain": [
       "<Figure size 432x288 with 1 Axes>"
      ]
     },
     "metadata": {
      "needs_background": "light"
     },
     "output_type": "display_data"
    }
   ],
   "source": [
    "ingredients_df = dataset_to_df(all_datasets[26].get_text())\n",
    "category_cholesterol = ingredients_df[[\"Category\", \"Data.Cholesterol\"]]\n",
    "category_cholesterol.head(10).plot(kind='bar', x='Category')\n"
   ]
  },
  {
   "cell_type": "markdown",
   "id": "4aec353d-39a2-4d2c-8c7d-063c8edb4483",
   "metadata": {},
   "source": [
    "Line Plot"
   ]
  },
  {
   "cell_type": "code",
   "execution_count": 82,
   "id": "00ab12c0-7dc6-4ce0-8906-090e7783af97",
   "metadata": {},
   "outputs": [
    {
     "name": "stdout",
     "output_type": "stream",
     "text": [
      "https://corgis-edu.github.io/corgis/datasets/csv/weather/weather.csv/../../datasets/csv/weather/weather.csv\n"
     ]
    },
    {
     "data": {
      "text/plain": [
       "<AxesSubplot:xlabel='Date.Full'>"
      ]
     },
     "execution_count": 82,
     "metadata": {},
     "output_type": "execute_result"
    },
    {
     "data": {
      "image/png": "[encoded data removed]",
      "text/plain": [
       "<Figure size 432x288 with 1 Axes>"
      ]
     },
     "metadata": {
      "needs_background": "light"
     },
     "output_type": "display_data"
    }
   ],
   "source": [
    "weather_df = dataset_to_df(all_datasets[46].get_text())\n",
    "anchorage_df = weather_df[weather_df['Station.City'] == 'Anchorage']\n",
    "# anchorage_df.head(10)\n",
    "month_mintemp = anchorage_df[[\"Date.Full\", \"Data.Temperature.Min Temp\"]]\n",
    "month_mintemp.plot(x=\"Date.Full\")"
   ]
  }
 ],
 "metadata": {
  "kernelspec": {
   "display_name": "Python 3 (ipykernel)",
   "language": "python",
   "name": "python3"
  },
  "language_info": {
   "codemirror_mode": {
    "name": "ipython",
    "version": 3
   },
   "file_extension": ".py",
   "mimetype": "text/x-python",
   "name": "python",
   "nbconvert_exporter": "python",
   "pygments_lexer": "ipython3",
   "version": "3.9.6"
  }
 },
 "nbformat": 4,
 "nbformat_minor": 5
}
