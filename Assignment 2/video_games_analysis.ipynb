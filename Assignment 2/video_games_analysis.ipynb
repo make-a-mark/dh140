{
 "cells": [
  {
   "cell_type": "markdown",
   "id": "1fad9ab2-42ee-4ea4-930e-c9b9d99eb7ed",
   "metadata": {},
   "source": [
    "# Assignment 2 - Make a Python Notebook to Analyze CORGIS Data\n",
    "\n",
    "### Author \n",
    "Mark Andal\n",
    "\n",
    "### Purpose\n",
    "The purpose of this assignment is to gain practice utilizing Python to parse, process, and analyze data of our choosing taken from the CORGIS database.\n",
    "\n",
    "### Data Used\n",
    "[Video Games Data](https://corgis-edu.github.io/corgis/python/video_games/)\n",
    "\n",
    "Description (taken from CORGIS website): \n",
    "> Originally collected by Dr. Joe Cox, this dataset has information about the sales and playtime of over a thousand video games released between 2004 and 2010. The playtime information was collected from crowd-sourced data on “How Long to Beat”.\n",
    "\n"
   ]
  },
  {
   "cell_type": "markdown",
   "id": "9adbf323-55a1-4b58-851d-42ca6b333ec1",
   "metadata": {
    "tags": []
   },
   "source": [
    "## Step 1 - According to the CORGIS usage and documentation, it is necessary to execute these lines to obtain the data, which returns a list of dictionaries representing video game "
   ]
  },
  {
   "cell_type": "code",
   "execution_count": 3,
   "id": "42be53b6-18a3-4934-93a8-e74d04ffe772",
   "metadata": {},
   "outputs": [],
   "source": [
    "import video_games\n",
    "video_game_dict = video_games.get_video_game()"
   ]
  },
  {
   "cell_type": "markdown",
   "id": "a78c3254-a1f9-4405-8c68-ce334d128960",
   "metadata": {
    "tags": []
   },
   "source": [
    "## Step 2 - Importing PrettyPrint to print data in a cleaner format"
   ]
  },
  {
   "cell_type": "code",
   "execution_count": 10,
   "id": "0649dcf2-012d-4d27-95a8-f20c26c6ce6a",
   "metadata": {},
   "outputs": [
    {
     "name": "stdout",
     "output_type": "stream",
     "text": [
      "{'Features': {'Handheld?': True,\n",
      "              'Max Players': 1,\n",
      "              'Multiplatform?': True,\n",
      "              'Online?': True},\n",
      " 'Length': {'All PlayStyles': {'Average': 22.716666666666665,\n",
      "                               'Leisure': 31.9,\n",
      "                               'Median': 24.483333333333334,\n",
      "                               'Polled': 57,\n",
      "                               'Rushed': 14.3},\n",
      "            'Completionists': {'Average': 29.766666666666666,\n",
      "                               'Leisure': 35.03333333333333,\n",
      "                               'Median': 30.0,\n",
      "                               'Polled': 20,\n",
      "                               'Rushed': 22.016666666666666},\n",
      "            'Main + Extras': {'Average': 24.916666666666668,\n",
      "                              'Leisure': 29.966666666666665,\n",
      "                              'Median': 25.0,\n",
      "                              'Polled': 16,\n",
      "                              'Rushed': 18.333333333333332},\n",
      "            'Main Story': {'Average': 14.333333333333334,\n",
      "                           'Leisure': 18.316666666666666,\n",
      "                           'Median': 14.5,\n",
      "                           'Polled': 21,\n",
      "                           'Rushed': 9.7}},\n",
      " 'Metadata': {'Genres': 'Action',\n",
      "              'Licensed?': True,\n",
      "              'Publishers': 'Nintendo',\n",
      "              'Sequel?': True},\n",
      " 'Metrics': {'Review Score': 85, 'Sales': 4.69, 'Used Price': 24.95},\n",
      " 'Release': {'Console': 'Nintendo DS',\n",
      "             'Rating': 'E',\n",
      "             'Re-release?': True,\n",
      "             'Year': 2004},\n",
      " 'Title': 'Super Mario 64 DS'}\n"
     ]
    }
   ],
   "source": [
    "from pprint import pprint as prettyprint\n",
    "prettyprint(video_game_dict[0])"
   ]
  },
  {
   "cell_type": "markdown",
   "id": "f42c2718-b440-4ddb-acdc-3ab55012a2cd",
   "metadata": {},
   "source": [
    "## Step 3 - Create a Function to"
   ]
  },
  {
   "cell_type": "code",
   "execution_count": 12,
   "id": "99906af6-35bc-45e0-a661-d2e39382c236",
   "metadata": {},
   "outputs": [
    {
     "name": "stdout",
     "output_type": "stream",
     "text": [
      "1212\n",
      "dict_keys(['Title', 'Features', 'Metadata', 'Metrics', 'Release', 'Length'])\n",
      "Monster Hunter Freedom\n",
      "279.73333333333335\n"
     ]
    }
   ],
   "source": [
    "print(len(video_game_dict))\n",
    "print(video_game_dict[0].keys())\n",
    "\n",
    "# print(video_game_dict[0]['Title'])\n",
    "\n",
    "def find_max_avg_all_playstyles(video_game_data):\n",
    "    title_avg_dict = {}\n",
    "    for game in video_game_data:\n",
    "        avg_length = game['Length']['All PlayStyles']['Average']\n",
    "        title = game['Title']\n",
    "        \n",
    "        title_avg_dict[title] = avg_length\n",
    "    \n",
    "    max_avg_title = max(title_avg_dict, key=title_avg_dict.get)\n",
    "    max_avg = title_avg_dict[max_avg_title]\n",
    "    return max_avg_title, max_avg\n",
    "\n",
    "title, max_avg = find_max_avg_all_playstyles(video_game_dict)\n",
    "print(title)\n",
    "print(max_avg)"
   ]
  },
  {
   "cell_type": "code",
   "execution_count": null,
   "id": "b1702c83-ead7-4cec-8402-a65a37a05807",
   "metadata": {},
   "outputs": [],
   "source": []
  }
 ],
 "metadata": {
  "kernelspec": {
   "display_name": "Python 3 (ipykernel)",
   "language": "python",
   "name": "python3"
  },
  "language_info": {
   "codemirror_mode": {
    "name": "ipython",
    "version": 3
   },
   "file_extension": ".py",
   "mimetype": "text/x-python",
   "name": "python",
   "nbconvert_exporter": "python",
   "pygments_lexer": "ipython3",
   "version": "3.9.6"
  }
 },
 "nbformat": 4,
 "nbformat_minor": 5
}
