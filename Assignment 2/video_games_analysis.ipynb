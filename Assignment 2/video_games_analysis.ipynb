{
 "cells": [
  {
   "cell_type": "markdown",
   "id": "1fad9ab2-42ee-4ea4-930e-c9b9d99eb7ed",
   "metadata": {},
   "source": [
    "# Assignment 2 - Make a Python Notebook to Analyze CORGIS Data\n",
    "\n",
    "### Author \n",
    "Mark Andal\n",
    "\n",
    "### Purpose\n",
    "The purpose of this assignment is to gain practice utilizing Python to parse, process, and analyze data of our choosing taken from the CORGIS database.\n",
    "\n",
    "I chose to find:\n",
    "1. The games with the highest average playtime among all playstyles per year \n",
    "2. The highest reviewed games (>= 90 review score) per console\n",
    "\n",
    "### Data Used\n",
    "[Video Games Data](https://corgis-edu.github.io/corgis/python/video_games/)\n",
    "\n",
    "Description (taken from CORGIS website): \n",
    "> Originally collected by Dr. Joe Cox, this dataset has information about the sales and playtime of over a thousand video games released between 2004 and 2010. The playtime information was collected from crowd-sourced data on “How Long to Beat”.\n",
    "\n"
   ]
  },
  {
   "cell_type": "markdown",
   "id": "9adbf323-55a1-4b58-851d-42ca6b333ec1",
   "metadata": {
    "tags": []
   },
   "source": [
    "## Step 1 - According to the CORGIS usage and documentation, it is necessary to execute these lines to obtain the data, which returns a list of dictionaries representing video game "
   ]
  },
  {
   "cell_type": "code",
   "execution_count": 2,
   "id": "42be53b6-18a3-4934-93a8-e74d04ffe772",
   "metadata": {},
   "outputs": [],
   "source": [
    "import video_games\n",
    "video_game_dict = video_games.get_video_game()"
   ]
  },
  {
   "cell_type": "markdown",
   "id": "a78c3254-a1f9-4405-8c68-ce334d128960",
   "metadata": {
    "tags": []
   },
   "source": [
    "## Step 2 - Importing PrettyPrint to print data in a cleaner format\n",
    "Want to print an example data structure to understand the keys"
   ]
  },
  {
   "cell_type": "code",
   "execution_count": 3,
   "id": "0649dcf2-012d-4d27-95a8-f20c26c6ce6a",
   "metadata": {},
   "outputs": [
    {
     "name": "stdout",
     "output_type": "stream",
     "text": [
      "{'Features': {'Handheld?': True,\n",
      "              'Max Players': 1,\n",
      "              'Multiplatform?': True,\n",
      "              'Online?': True},\n",
      " 'Length': {'All PlayStyles': {'Average': 22.716666666666665,\n",
      "                               'Leisure': 31.9,\n",
      "                               'Median': 24.483333333333334,\n",
      "                               'Polled': 57,\n",
      "                               'Rushed': 14.3},\n",
      "            'Completionists': {'Average': 29.766666666666666,\n",
      "                               'Leisure': 35.03333333333333,\n",
      "                               'Median': 30.0,\n",
      "                               'Polled': 20,\n",
      "                               'Rushed': 22.016666666666666},\n",
      "            'Main + Extras': {'Average': 24.916666666666668,\n",
      "                              'Leisure': 29.966666666666665,\n",
      "                              'Median': 25.0,\n",
      "                              'Polled': 16,\n",
      "                              'Rushed': 18.333333333333332},\n",
      "            'Main Story': {'Average': 14.333333333333334,\n",
      "                           'Leisure': 18.316666666666666,\n",
      "                           'Median': 14.5,\n",
      "                           'Polled': 21,\n",
      "                           'Rushed': 9.7}},\n",
      " 'Metadata': {'Genres': 'Action',\n",
      "              'Licensed?': True,\n",
      "              'Publishers': 'Nintendo',\n",
      "              'Sequel?': True},\n",
      " 'Metrics': {'Review Score': 85, 'Sales': 4.69, 'Used Price': 24.95},\n",
      " 'Release': {'Console': 'Nintendo DS',\n",
      "             'Rating': 'E',\n",
      "             'Re-release?': True,\n",
      "             'Year': 2004},\n",
      " 'Title': 'Super Mario 64 DS'}\n"
     ]
    }
   ],
   "source": [
    "from pprint import pprint as prettyprint\n",
    "\n",
    "# print the first data structure in the video game dictionary given from CORGIS\n",
    "prettyprint(video_game_dict[0])"
   ]
  },
  {
   "cell_type": "markdown",
   "id": "f42c2718-b440-4ddb-acdc-3ab55012a2cd",
   "metadata": {},
   "source": [
    "## Step 3 - Create a Function to find the max average all playstyles playtime\n",
    "`find_max_avg_all_playstyles`\n",
    "\n",
    "Input: \n",
    "1. `video_game_data` - a dictionary of all games\n",
    "\n",
    "Outputs: \n",
    "1. `max_avg_title` - a string noting the title of the game\n",
    "2. `max_avg` - a float noting the average play length\n"
   ]
  },
  {
   "cell_type": "code",
   "execution_count": 36,
   "id": "99906af6-35bc-45e0-a661-d2e39382c236",
   "metadata": {},
   "outputs": [
    {
     "name": "stdout",
     "output_type": "stream",
     "text": [
      "Monster Hunter Freedom\n",
      "279.73333333333335\n"
     ]
    }
   ],
   "source": [
    "def find_max_avg_all_playstyles(video_game_data):\n",
    "    # have a dictionary with title as key and average length as value\n",
    "    title_avg_dict = {}\n",
    "    \n",
    "    # loop through each video game's data structure\n",
    "    for game in video_game_data:\n",
    "        avg_length = game['Length']['All PlayStyles']['Average']\n",
    "        title = game['Title']\n",
    "        \n",
    "        # fill dictionary with title and average length of each video game\n",
    "        title_avg_dict[title] = avg_length\n",
    "    \n",
    "    # find the key of the max value (average length)\n",
    "    max_avg_title = max(title_avg_dict, key=title_avg_dict.get)\n",
    "    # find the max value\n",
    "    max_avg = title_avg_dict[max_avg_title]\n",
    "    return max_avg_title, max_avg\n",
    "\n",
    "# print results\n",
    "title, max_avg = find_max_avg_all_playstyles(video_game_dict)\n",
    "print(title)\n",
    "print(max_avg)"
   ]
  },
  {
   "cell_type": "markdown",
   "id": "3917d7f5-fc2c-42b1-b549-30e4e0921967",
   "metadata": {
    "tags": []
   },
   "source": [
    "### Step 4 - Create a Function to create a new dictionary that seperates the games by year\n",
    "`separate_by_year`\n",
    "\n",
    "Input:\n",
    "1. `video_game_data` - a dictionary of all games\n",
    "\n",
    "Output:\n",
    "1. `year_dictionary` - a dictionary of all games separated by year as the keys"
   ]
  },
  {
   "cell_type": "code",
   "execution_count": 38,
   "id": "91bd3db4-a3aa-4f6c-b55d-60dfd62603e8",
   "metadata": {},
   "outputs": [],
   "source": [
    "# separate the video game dictionary by year\n",
    "def separate_by_year(video_game_data):\n",
    "    year_dictionary = {}\n",
    "    \n",
    "    # loop through each video game's data structure\n",
    "    for game in video_game_data:\n",
    "        release_year = game['Release']['Year']\n",
    "        \n",
    "        # if key (year) does not exist already\n",
    "        if release_year not in year_dictionary:\n",
    "            # add game data structure in a list to the year\n",
    "            year_dictionary[release_year] = [game]\n",
    "        else:\n",
    "            # if it does exist, append the game data structure to the list\n",
    "            year_dictionary[release_year].append(game)\n",
    "\n",
    "    return year_dictionary\n",
    "\n",
    "year_dictionary = separate_by_year(video_game_dict)\n"
   ]
  },
  {
   "cell_type": "markdown",
   "id": "fb9e58c4-5c42-4469-875d-72706991508b",
   "metadata": {},
   "source": [
    "### Step 5 - Combine the 2 functions in a new function that finds the max average and title per year\n",
    "`find_max_per_year`\n",
    "\n",
    "Input:\n",
    "1. `separate_year_dict` - video game dictionary separated by year\n",
    "\n",
    "Output:\n",
    "1. `year_title_avg_dict` - dictionary that has year as key and title and max average in a list as value"
   ]
  },
  {
   "cell_type": "code",
   "execution_count": 39,
   "id": "6eac2b8a-e3de-4ed1-8ef9-09ae3572d8d9",
   "metadata": {},
   "outputs": [
    {
     "name": "stdout",
     "output_type": "stream",
     "text": [
      "{2004: ['Metal Gear Ac!d', 25.383333333333333], 2005: ['Animal Crossing: Wild World', 168.96666666666667], 2006: ['Monster Hunter Freedom', 279.73333333333335], 2007: ['Monster Hunter Freedom 2', 136.01666666666668], 2008: ['Animal Crossing: City Folk', 191.25]}\n"
     ]
    }
   ],
   "source": [
    "def find_max_per_year(separate_year_dict):\n",
    "    year_title_avg_dict = {}\n",
    "    \n",
    "    # loop through each year\n",
    "    for year in year_dictionary:\n",
    "        # call the find_max_avg_all_playstyles function for each year dictionary\n",
    "        title, max_avg = find_max_avg_all_playstyles(year_dictionary[year])\n",
    "        \n",
    "        # add the returned title and max avg in a list as the value to the year key\n",
    "        year_title_avg_dict[year] = [title, max_avg]\n",
    "\n",
    "    return year_title_avg_dict\n",
    "\n",
    "# print results\n",
    "year_title_avg_dict = find_max_per_year(year_dictionary)\n",
    "print(year_title_avg_dict)"
   ]
  },
  {
   "cell_type": "markdown",
   "id": "3d42f293-2fca-4518-abc4-c93d9104af1b",
   "metadata": {},
   "source": [
    "### Step 6 - Createa Function to calculate all the >= 90 review scores for each console\n",
    "`get_90s_per_console`\n",
    "\n",
    "Input:\n",
    "1. `video_game_data` - a dictionary of all games\n",
    "\n",
    "Output:\n",
    "1. `console_dictionary` - a dictionary with the console as key and a list of the games with >= 90 review scores as the value "
   ]
  },
  {
   "cell_type": "code",
   "execution_count": 40,
   "id": "e0c13590-ddb4-421f-a265-f1dcf6d0f9ce",
   "metadata": {},
   "outputs": [
    {
     "name": "stdout",
     "output_type": "stream",
     "text": [
      "{'Nintendo DS': ['Mario Kart DS', 91, ['Advance Wars: Dual Strike', 90], ['The Legend of Zelda: Phantom Hourglass', 90], ['Chrono Trigger', 92]], 'X360': ['Gears of War', 94, ['The Elder Scrolls IV: Oblivion', 94], [\"Tom Clancy's Ghost Recon: Advanced Warfighter\", 90], ['Halo 3', 94], ['Call of Duty 4: Modern Warfare', 94], ['Forza Motorsport 2', 90], ['Guitar Hero II', 92], ['Rock Band', 92], ['Mass Effect', 91], ['BioShock', 96], ['The Orange Box', 96], ['Grand Theft Auto IV', 98], ['Gears of War 2', 93], ['Fallout 3', 93], ['Rock Band 2', 92]], 'Nintendo Wii': ['The Legend of Zelda: Twilight Princess', 95, ['Super Mario Galaxy', 97], ['Resident Evil 4', 91], ['Metroid Prime 3: Corruption', 90], ['Super Smash Bros.: Brawl', 93], ['Rock Band', 92], ['?kami', 90]], 'PlayStation 3': ['Call of Duty 4: Modern Warfare', 94, ['The Elder Scrolls IV: Oblivion', 93], ['Rock Band', 92], ['Grand Theft Auto IV', 98], ['Metal Gear Solid 4: Guns of the Patriots', 94], ['LittleBigPlanet', 95], ['Fallout 3', 90], ['Rock Band 2', 91], ['BioShock', 94]], 'Sony PSP': ['God of War: Chains of Olympus', 91]}\n"
     ]
    }
   ],
   "source": [
    "def get_90s_per_console(video_game_data):\n",
    "    console_dictionary = {}\n",
    "    \n",
    "    # loop through each game data structure\n",
    "    for game in video_game_data:\n",
    "        score = game['Metrics']['Review Score']\n",
    "        console = game['Release']['Console']\n",
    "        title = game['Title']\n",
    "        \n",
    "        # if the review score >= 90\n",
    "        if score >= 90:\n",
    "            # if key (console) does not exist already\n",
    "            if console not in console_dictionary:\n",
    "                # add the title and score in a list to the console\n",
    "                console_dictionary[console] = [title, score]\n",
    "            else:\n",
    "                # if it does exist, append the title and score list to the console key-value list\n",
    "                title_score_list = [title, score]\n",
    "                console_dictionary[console].append(title_score_list)\n",
    "    return console_dictionary\n",
    "\n",
    "# print results\n",
    "console_dictionary = get_90s_per_console(video_game_dict)\n",
    "print(console_dictionary)"
   ]
  }
 ],
 "metadata": {
  "kernelspec": {
   "display_name": "Python 3 (ipykernel)",
   "language": "python",
   "name": "python3"
  },
  "language_info": {
   "codemirror_mode": {
    "name": "ipython",
    "version": 3
   },
   "file_extension": ".py",
   "mimetype": "text/x-python",
   "name": "python",
   "nbconvert_exporter": "python",
   "pygments_lexer": "ipython3",
   "version": "3.9.6"
  }
 },
 "nbformat": 4,
 "nbformat_minor": 5
}
